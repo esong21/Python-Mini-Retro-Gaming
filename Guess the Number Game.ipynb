{
 "cells": [
  {
   "cell_type": "code",
   "execution_count": 2,
   "id": "2cda8b13",
   "metadata": {},
   "outputs": [
    {
     "name": "stdout",
     "output_type": "stream",
     "text": [
      "13\n",
      "Enter the number you guess : 5\n",
      "Wrong!! Guess a larger number!!\n",
      "Enter the number you guess : 2\n",
      "Wrong!! Guess a larger number!!\n",
      "Enter the number you guess : 13\n",
      "Congratulations, You gussed it right!!\n",
      "You guessed the Number in 3 guesses\n"
     ]
    }
   ],
   "source": [
    "import random\n",
    "\n",
    "# initialising variables\n",
    "\n",
    "playerGuess = None\n",
    "guesses = 0\n",
    "\n",
    "randNumber = random.randint(1, 100)\n",
    "print(randNumber) # we do not need to print this it is just for checking.\n",
    "\n",
    "\n",
    "while playerGuess != randNumber:        \n",
    "    playerGuess =  int(input(\"Enter the number you guess : \"))\n",
    "    guesses +=1\n",
    "       \n",
    "    if playerGuess == randNumber:\n",
    "        print(\"Congratulations, You gussed it right!!\")\n",
    "    else:\n",
    "        if (randNumber < playerGuess) :\n",
    "            print(\"Wrong!! Guess a smaller number!!\")\n",
    "        else:\n",
    "            print(\"Wrong!! Guess a larger number!!\")\n",
    "\n",
    "print(f'You guessed the Number in {guesses} guesses')\n",
    "\n",
    "# adding the highscore facility to the game on a new file."
   ]
  },
  {
   "cell_type": "code",
   "execution_count": null,
   "id": "61b4f039",
   "metadata": {},
   "outputs": [],
   "source": []
  }
 ],
 "metadata": {
  "kernelspec": {
   "display_name": "Python 3",
   "language": "python",
   "name": "python3"
  },
  "language_info": {
   "codemirror_mode": {
    "name": "ipython",
    "version": 3
   },
   "file_extension": ".py",
   "mimetype": "text/x-python",
   "name": "python",
   "nbconvert_exporter": "python",
   "pygments_lexer": "ipython3",
   "version": "3.8.8"
  }
 },
 "nbformat": 4,
 "nbformat_minor": 5
}
