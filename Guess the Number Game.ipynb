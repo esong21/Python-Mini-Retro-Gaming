{
 "cells": [
  {
   "cell_type": "code",
   "execution_count": null,
   "id": "2cda8b13",
   "metadata": {},
   "outputs": [],
   "source": [
    "import random\n",
    "random.rand()\n",
    "rand=random.randint(1,10)\n",
    "old=0\n",
    "rand=old\n",
    "print(rand)\n",
    "guess=(input(\"Guess Higher or Lower\"))\n",
    "random.rand()\n",
    "print(rand)\n",
    "rand=random.randint(1,10)\n",
    "if old<rand and guess==\"Lower\":\n",
    "    print(\"You Guessed Right\")\n",
    "elif old<rand and guess==\"Higher\":\n",
    "    print(\"You Guessed Wrong\")\n",
    "elif old>rand and guess==\"Lower\":\n",
    "    print(\"You Guessed Wrong\")\n",
    "elif old<rand and guess==\"Higher\":\n",
    "    print(\"You Guessed Right\")"
   ]
  }
 ],
 "metadata": {
  "kernelspec": {
   "display_name": "Python 3",
   "language": "python",
   "name": "python3"
  },
  "language_info": {
   "codemirror_mode": {
    "name": "ipython",
    "version": 3
   },
   "file_extension": ".py",
   "mimetype": "text/x-python",
   "name": "python",
   "nbconvert_exporter": "python",
   "pygments_lexer": "ipython3",
   "version": "3.8.8"
  }
 },
 "nbformat": 4,
 "nbformat_minor": 5
}
