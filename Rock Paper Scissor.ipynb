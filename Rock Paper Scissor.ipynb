{
 "cells": [
  {
   "cell_type": "code",
   "execution_count": 11,
   "id": "26535d63",
   "metadata": {},
   "outputs": [
    {
     "name": "stdout",
     "output_type": "stream",
     "text": [
      "Enter Rock, Paper, Scissor Rock\n",
      "The CPU is choosing...\n",
      "...\n",
      "The CPU chose:  Rock \n",
      "The User chose:  Rock\n",
      "There was a Tie\n"
     ]
    }
   ],
   "source": [
    "import random\n",
    "import time\n",
    "def winning(cpu, user):\n",
    "    if cpu == user:\n",
    "        return None\n",
    "    elif cpu == \"Rock\":\n",
    "        if user == \"Scissor\":\n",
    "            return False\n",
    "        elif user == \"Paper\":\n",
    "            return True\n",
    "    elif cpu == \"Scissor\":\n",
    "        if user == \"Paper\":\n",
    "            return False\n",
    "        elif user == \"Rock\":\n",
    "            return True\n",
    "    elif cpu == \"Paper\":\n",
    "        if user == \"Rock\":\n",
    "            return False\n",
    "        elif user == \"Scissor\":\n",
    "            return True\n",
    "\n",
    "user=input(\"Enter Rock, Paper, Scissor \")\n",
    "print(\"The CPU is choosing...\")\n",
    "time.sleep(2.5)\n",
    "print(\"...\")\n",
    "time.sleep(1)\n",
    "cpu=random.randint(1,3)\n",
    "if cpu == 1:\n",
    "    cpu=\"Rock\"\n",
    "elif cpu == 2:\n",
    "    cpu=\"Paper\"\n",
    "elif cpu == 3:\n",
    "    cpu=\"Scissor\"\n",
    "c=winning(cpu, user)\n",
    "print(\"The CPU chose: \", cpu, \"\\nThe User chose: \", user)\n",
    "\n",
    "if c==None:\n",
    "    print(\"There was a Tie\")\n",
    "elif c==True:\n",
    "    print(\"You Win\")\n",
    "else:\n",
    "    print(\"You Lose\")"
   ]
  },
  {
   "cell_type": "code",
   "execution_count": null,
   "id": "458375d6",
   "metadata": {},
   "outputs": [],
   "source": []
  }
 ],
 "metadata": {
  "kernelspec": {
   "display_name": "Python 3",
   "language": "python",
   "name": "python3"
  },
  "language_info": {
   "codemirror_mode": {
    "name": "ipython",
    "version": 3
   },
   "file_extension": ".py",
   "mimetype": "text/x-python",
   "name": "python",
   "nbconvert_exporter": "python",
   "pygments_lexer": "ipython3",
   "version": "3.8.8"
  }
 },
 "nbformat": 4,
 "nbformat_minor": 5
}
